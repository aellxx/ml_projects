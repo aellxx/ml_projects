{
 "cells": [
  {
   "cell_type": "markdown",
   "metadata": {},
   "source": [
    "# Implementing a Language Model "
   ]
  },
  {
   "cell_type": "code",
   "execution_count": 1,
   "metadata": {
    "id": "osKgPaDwhaN4"
   },
   "outputs": [],
   "source": [
    "import torch\n",
    "from torch import tensor\n",
    "import torch.nn.functional as F\n",
    "import torch.nn as nn\n",
    "import pandas as pd\n",
    "import matplotlib.pyplot as plt\n",
    "from torch.optim import SGD"
   ]
  },
  {
   "cell_type": "markdown",
   "metadata": {},
   "source": [
    "## Get the Data"
   ]
  },
  {
   "cell_type": "code",
   "execution_count": 2,
   "metadata": {},
   "outputs": [
    {
     "data": {
      "text/plain": [
       "'\\n\"\"\"\\ncsv.py - read/write/investigate CSV files\\n\"\"\"\\n\\nimport re\\nfrom _csv import Error, __version__, w'"
      ]
     },
     "execution_count": 2,
     "metadata": {},
     "output_type": "execute_result"
    }
   ],
   "source": [
    "import csv\n",
    "data = open(csv.__file__).read()\n",
    "data[:100]"
   ]
  },
  {
   "cell_type": "code",
   "execution_count": 3,
   "metadata": {},
   "outputs": [
    {
     "data": {
      "text/plain": [
       "torch.Size([16144])"
      ]
     },
     "execution_count": 3,
     "metadata": {},
     "output_type": "execute_result"
    }
   ],
   "source": [
    "data_tensor = torch.tensor(\n",
    "    [ord(c) for c in data])\n",
    "data_tensor.shape"
   ]
  },
  {
   "cell_type": "code",
   "execution_count": 4,
   "metadata": {},
   "outputs": [],
   "source": [
    "vocab_size = data_tensor.max() + 1"
   ]
  },
  {
   "cell_type": "markdown",
   "metadata": {},
   "source": [
    "## The Feedforward/MLP Layer"
   ]
  },
  {
   "cell_type": "code",
   "execution_count": 5,
   "metadata": {},
   "outputs": [],
   "source": [
    "# temporarily embed input vector in a bigger space and chop off all negative components\n",
    "def MLP(emb_dim, hid_dim): # or called feed-forward network dimension \n",
    "    # internal logic -> same dimensionality \n",
    "    return nn.Sequential(\n",
    "        nn.Linear(emb_dim, hid_dim),\n",
    "        nn.ReLU(),\n",
    "        nn.Linear(hid_dim, emb_dim)\n",
    "    ) # make us a sequential layer"
   ]
  },
  {
   "cell_type": "markdown",
   "metadata": {},
   "source": [
    "## A Single Head Attention"
   ]
  },
  {
   "cell_type": "code",
   "execution_count": 21,
   "metadata": {},
   "outputs": [],
   "source": [
    "class SingleHeadAttention(nn.Module):\n",
    "    def __init__(self, emb_dim, head_dim):\n",
    "        super().__init__()\n",
    "        self.get_query = nn.Linear(emb_dim, head_dim)\n",
    "        self.get_key = nn.Linear(emb_dim, head_dim)\n",
    "        self.get_value = nn.Linear(emb_dim, head_dim)\n",
    "        \n",
    "    def forward(self, x): \n",
    "        seq_len, emb_dim = x.shape\n",
    "        \n",
    "        # get the query vector\n",
    "        q = self.get_query(x)\n",
    "        assert q.shape == (seq_len, head_dim)\n",
    "        \n",
    "        # get the key vector\n",
    "        k = self.get_key(x)\n",
    "        assert k.shape == (seq_len, head_dim)\n",
    "        \n",
    "        # get the value vector\n",
    "        v = self.get_value(x)\n",
    "        assert v.shape == (seq_len, head_dim)\n",
    "        \n",
    "        # invert the key vector\n",
    "        k_trans = torch.t(k)\n",
    "        assert k_trans.shape == (head_dim, seq_len)\n",
    "        # compute the similarity between the query and key to get the attention weights\n",
    "        similarity = q @ k_trans\n",
    "        assert similarity.shape == (seq_len, seq_len)\n",
    "        \n",
    "        # scale the weights and apply softmax\n",
    "        scaled_similarity = similarity / (head_dim ** .5)\n",
    "        attention_weights = scaled_similarity.softmax(dim=1)\n",
    "        assert attention_weights.shape == (seq_len, seq_len)\n",
    "        \n",
    "        # return a value matrix that takes into account the attentions\n",
    "        return attention_weights @ v"
   ]
  },
  {
   "cell_type": "markdown",
   "metadata": {},
   "source": [
    "## Multi-head Attention"
   ]
  },
  {
   "cell_type": "code",
   "execution_count": 22,
   "metadata": {},
   "outputs": [],
   "source": [
    "class MultiHeadAttention(nn.Module):\n",
    "    def __init__(self, emb_dim, head_dim, num_heads):\n",
    "        super().__init__()\n",
    "        # create multiple attention layers (depending on num_heads)\n",
    "        self.heads = nn.ModuleList([\n",
    "            SingleHeadAttention(emb_dim, head_dim) for i in range(num_heads)\n",
    "        ])\n",
    "        \n",
    "        # convert to a format that can be taken in by the MLP\n",
    "        self.to_output = nn.Linear(num_heads*head_dim, emb_dim, bias=False)\n",
    "\n",
    "    def forward(self, x):\n",
    "        # get the outputs from the different attention heads\n",
    "        head_outputs = [head(x) for head in self.heads]\n",
    "        # aggregate the outputs from each attention head\n",
    "        heads_combined = torch.cat(head_outputs, dim=-1)\n",
    "        # print(f\"heads_combined = {heads_combined.shape}\") 50 x 30\n",
    "        # change to a format that can be taken in by the next layer\n",
    "        out = self.to_output(heads_combined)\n",
    "        return out"
   ]
  },
  {
   "cell_type": "markdown",
   "metadata": {},
   "source": [
    "The `Transformer` layer consists of the multi-head attention layer and the MLP layer"
   ]
  },
  {
   "cell_type": "code",
   "execution_count": 23,
   "metadata": {},
   "outputs": [],
   "source": [
    "class SingleTransformerLayer(nn.Module):\n",
    "    def __init__(self, embed_dim, head_dim, num_heads, feedforward_dim):\n",
    "        super().__init__()\n",
    "        # define multi-head self attention layer\n",
    "        self.multihead_self_attn = MultiHeadAttention(embed_dim, head_dim, num_heads)\n",
    "        # define feedforward layer\n",
    "        self.feedforward = MLP(emb_dim, feedforward_dim)\n",
    "        \n",
    "        # For viewing the number of in & out states after going through each layer\n",
    "        self.norm_after_atten = nn.LayerNorm(emb_dim)\n",
    "        self.norm_after_feedforward = nn.LayerNorm(emb_dim)\n",
    "        \n",
    "    def forward(self, x):\n",
    "        # 1) go through the attention layer\n",
    "        x = self.multihead_self_attn(x)\n",
    "        x = self.norm_after_atten(x)\n",
    "        # 2) go through the MLP layer\n",
    "        x = self.feedforward(x)\n",
    "        x = self.norm_after_feedforward(x)\n",
    "        return x"
   ]
  },
  {
   "cell_type": "code",
   "execution_count": 24,
   "metadata": {},
   "outputs": [],
   "source": [
    "class Transformer(nn.Module):\n",
    "    def __init__(self, vocab_size, max_len, embed_dim, head_dim, fdfw_dim, num_heads):\n",
    "        super().__init__()\n",
    "        self.word_to_embedding = nn.Embedding(vocab_size, embed_dim)\n",
    "        # self.pos_to_embedding = nn.Embedding(max_len, embed_dim)\n",
    "        self.model = SingleTransformerLayer(embed_dim, head_dim, num_heads, fdfw_dim)\n",
    "        self.lm_head = nn.Linear(emb_dim, vocab_size, bias=True)\n",
    "        \n",
    "    def forward(self, x):\n",
    "        # get the word embeddings\n",
    "        x = self.word_to_embedding(x)\n",
    "        # get the position embeddings\n",
    "        # position_ids = torch.arrange(input_ids.shape[-1])\n",
    "        # pos_embeddings = self.pos_to_embedding(position_ids)\n",
    "        \n",
    "        #x = word_embeddings + pos_embeddings\n",
    "        x = self.model(x)\n",
    "        \n",
    "        return self.lm_head(x)"
   ]
  },
  {
   "cell_type": "markdown",
   "metadata": {},
   "source": [
    "## Define some constants"
   ]
  },
  {
   "cell_type": "code",
   "execution_count": 25,
   "metadata": {},
   "outputs": [],
   "source": [
    "num_heads = 3\n",
    "emb_dim = 5\n",
    "head_dim = emb_dim // num_heads\n",
    "d_feed_forward = emb_dim * 4"
   ]
  },
  {
   "cell_type": "code",
   "execution_count": 26,
   "metadata": {},
   "outputs": [],
   "source": [
    "model = Transformer(vocab_size=vocab_size, max_len=50, embed_dim=emb_dim, head_dim=head_dim, fdfw_dim=d_feed_forward, num_heads=num_heads)"
   ]
  },
  {
   "cell_type": "markdown",
   "metadata": {},
   "source": [
    "## View the model"
   ]
  },
  {
   "cell_type": "code",
   "execution_count": 27,
   "metadata": {},
   "outputs": [
    {
     "data": {
      "text/plain": [
       "<AxesSubplot:>"
      ]
     },
     "execution_count": 27,
     "metadata": {},
     "output_type": "execute_result"
    },
    {
     "data": {
      "image/png": "[encoded data removed]",
      "text/plain": [
       "<Figure size 432x288 with 1 Axes>"
      ]
     },
     "metadata": {
      "needs_background": "light"
     },
     "output_type": "display_data"
    }
   ],
   "source": [
    "# optimizer\n",
    "optimizer = SGD(model.parameters(), lr=.05)\n",
    "\n",
    "seq_length = 50\n",
    "\n",
    "losses = []\n",
    "# one epoch = one complete pass\n",
    "# not doing epochs not.. take random samples\n",
    "for batch_idx in range(1000): \n",
    "    # get one batch or data\n",
    "    start_at = 0 #random.randrange(size - sequence_length - 1)\n",
    "    input_ids = data_tensor[start_at:start_at+seq_length]\n",
    "    #print(input_ids)\n",
    "    targets = data_tensor[start_at + 1:start_at + 1 + seq_length]\n",
    "    #print(targets)\n",
    "    \n",
    "    # give the data to the model, ask for predictions\n",
    "    logits = model(input_ids)\n",
    "    \n",
    "    # compute loss\n",
    "    loss = F.cross_entropy(logits, targets)\n",
    "    losses.append(loss.item())\n",
    "    \n",
    "    # backpropagate\n",
    "    loss.backward()\n",
    "    \n",
    "    # step the optimizer\n",
    "    optimizer.step()\n",
    "    optimizer.zero_grad()\n",
    "\n",
    "pd.Series(losses).ewm(alpha = .01).mean().plot()"
   ]
  },
  {
   "cell_type": "code",
   "execution_count": null,
   "metadata": {},
   "outputs": [],
   "source": []
  }
 ],
 "metadata": {
  "colab": {
   "authorship_tag": "ABX9TyNS7mRS03a7VSFcbdUnYf/k",
   "collapsed_sections": [],
   "include_colab_link": true,
   "name": "012-tokenization.ipynb",
   "provenance": []
  },
  "kernelspec": {
   "display_name": "Python 3 (ipykernel)",
   "language": "python",
   "name": "python3"
  },
  "language_info": {
   "codemirror_mode": {
    "name": "ipython",
    "version": 3
   },
   "file_extension": ".py",
   "mimetype": "text/x-python",
   "name": "python",
   "nbconvert_exporter": "python",
   "pygments_lexer": "ipython3",
   "version": "3.9.7"
  }
 },
 "nbformat": 4,
 "nbformat_minor": 1
}
