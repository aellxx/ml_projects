{
 "cells": [
  {
   "cell_type": "markdown",
   "id": "a0792bf7",
   "metadata": {},
   "source": [
    "# Character Embeddings"
   ]
  },
  {
   "cell_type": "code",
   "execution_count": 1,
   "id": "d2c97d2f",
   "metadata": {},
   "outputs": [],
   "source": [
    "import torch \n",
    "from torch import tensor \n",
    "import torch.nn.functional as F \n",
    "import torch.nn as nn "
   ]
  },
  {
   "cell_type": "markdown",
   "id": "c83ecbf1",
   "metadata": {},
   "source": [
    "## Get the data"
   ]
  },
  {
   "cell_type": "code",
   "execution_count": 2,
   "id": "7dd47214",
   "metadata": {},
   "outputs": [],
   "source": [
    "import json \n",
    "data = open(json.__file__).read() \n",
    "data_tensor = torch.tensor([ord(c) for c in data])"
   ]
  },
  {
   "cell_type": "code",
   "execution_count": 3,
   "id": "fa16df9f",
   "metadata": {},
   "outputs": [],
   "source": [
    "num_classes = 126"
   ]
  },
  {
   "cell_type": "markdown",
   "id": "35314f26",
   "metadata": {},
   "source": [
    "## Define neural net layers"
   ]
  },
  {
   "cell_type": "code",
   "execution_count": 4,
   "id": "0c49bd65",
   "metadata": {},
   "outputs": [
    {
     "name": "stdout",
     "output_type": "stream",
     "text": [
      "Layer 1 has 126 in features and 1 out features\n",
      "Layer 2 has 1 in features and 126 out features\n"
     ]
    }
   ],
   "source": [
    "layer_1 = nn.Linear(in_features=num_classes, out_features=1, bias=False)\n",
    "layer_2 = nn.Linear(in_features=1, out_features=num_classes, bias=False)\n",
    "\n",
    "print(f\"Layer 1 has {layer_1.in_features} in features and {layer_1.out_features} out features\")\n",
    "print(f\"Layer 2 has {layer_2.in_features} in features and {layer_2.out_features} out features\")"
   ]
  },
  {
   "cell_type": "markdown",
   "id": "d93ff2e0",
   "metadata": {},
   "source": [
    "## Get the input batch"
   ]
  },
  {
   "cell_type": "code",
   "execution_count": 5,
   "id": "d461aef8",
   "metadata": {},
   "outputs": [
    {
     "data": {
      "text/plain": [
       "tensor([114,  34,  34,  34,  74])"
      ]
     },
     "execution_count": 5,
     "metadata": {},
     "output_type": "execute_result"
    }
   ],
   "source": [
    "input_batch = data_tensor[0:5]\n",
    "input_batch"
   ]
  },
  {
   "cell_type": "code",
   "execution_count": 6,
   "id": "73be2616",
   "metadata": {},
   "outputs": [
    {
     "data": {
      "text/plain": [
       "torch.Size([5, 126])"
      ]
     },
     "execution_count": 6,
     "metadata": {},
     "output_type": "execute_result"
    }
   ],
   "source": [
    "one_hot_input = F.one_hot(input_batch, num_classes).float()\n",
    "one_hot_input.shape"
   ]
  },
  {
   "cell_type": "markdown",
   "id": "3419a713",
   "metadata": {},
   "source": [
    "## A forward pass"
   ]
  },
  {
   "cell_type": "markdown",
   "id": "fc177e88",
   "metadata": {},
   "source": [
    "Pass the input to the first layer"
   ]
  },
  {
   "cell_type": "code",
   "execution_count": 7,
   "id": "5606786d",
   "metadata": {},
   "outputs": [
    {
     "data": {
      "text/plain": [
       "tensor([[ 0.0042],\n",
       "        [ 0.0119],\n",
       "        [ 0.0119],\n",
       "        [ 0.0119],\n",
       "        [-0.0642]], grad_fn=<MmBackward0>)"
      ]
     },
     "execution_count": 7,
     "metadata": {},
     "output_type": "execute_result"
    }
   ],
   "source": [
    "act_1 = layer_1(one_hot_input)\n",
    "act_1"
   ]
  },
  {
   "cell_type": "markdown",
   "id": "0d919012",
   "metadata": {},
   "source": [
    "Pass the input to the second layer"
   ]
  },
  {
   "cell_type": "code",
   "execution_count": 8,
   "id": "de76d93e",
   "metadata": {},
   "outputs": [
    {
     "data": {
      "text/plain": [
       "torch.Size([5, 126])"
      ]
     },
     "execution_count": 8,
     "metadata": {},
     "output_type": "execute_result"
    }
   ],
   "source": [
    "act_2 = layer_2(act_1)\n",
    "act_2.shape"
   ]
  },
  {
   "cell_type": "markdown",
   "id": "9034bbea",
   "metadata": {},
   "source": [
    "* 5: Amount of data we're working with \n",
    "* 126: Number of characters in the dictionary"
   ]
  },
  {
   "cell_type": "code",
   "execution_count": 9,
   "id": "e473be3b",
   "metadata": {},
   "outputs": [
    {
     "data": {
      "text/plain": [
       "'\\n'"
      ]
     },
     "execution_count": 9,
     "metadata": {},
     "output_type": "execute_result"
    }
   ],
   "source": [
    "chr(act_2[4].argmax().item())"
   ]
  },
  {
   "cell_type": "markdown",
   "id": "b80e0748",
   "metadata": {},
   "source": [
    "## Backpropagation and SGD"
   ]
  },
  {
   "cell_type": "code",
   "execution_count": 10,
   "id": "7f6733fb",
   "metadata": {},
   "outputs": [],
   "source": [
    "LEARNING_RATE = .1\n",
    "target_ids = F.one_hot(data_tensor[1:6], num_classes).float()\n",
    "EPOCH = 20"
   ]
  },
  {
   "cell_type": "code",
   "execution_count": 11,
   "id": "ff24abd7",
   "metadata": {},
   "outputs": [
    {
     "name": "stdout",
     "output_type": "stream",
     "text": [
      "Epoch 0: the loss is 4.824247360229492\n"
     ]
    }
   ],
   "source": [
    "loss = F.cross_entropy(act_2, target_ids)\n",
    "print(f\"Epoch 0: the loss is {loss.item()}\")"
   ]
  },
  {
   "cell_type": "code",
   "execution_count": 12,
   "id": "0f944ab9",
   "metadata": {},
   "outputs": [],
   "source": [
    "loss.backward()\n",
    "layer_1.weight.data -= LEARNING_RATE * layer_1.weight.grad\n",
    "layer_2.weight.data -= LEARNING_RATE * layer_2.weight.grad"
   ]
  },
  {
   "cell_type": "code",
   "execution_count": 13,
   "id": "503eb0e1",
   "metadata": {},
   "outputs": [
    {
     "name": "stdout",
     "output_type": "stream",
     "text": [
      "Epoch 1: \t\n",
      "next character prediction: \n",
      "\n",
      "the loss is 4.819769382476807\n",
      "\n",
      "Epoch 2: \t\n",
      "next character prediction: \n",
      "\n",
      "the loss is 4.8108696937561035\n",
      "\n",
      "Epoch 3: \t\n",
      "next character prediction: \n",
      "\n",
      "the loss is 4.797612190246582\n",
      "\n",
      "Epoch 4: \t\n",
      "next character prediction: \n",
      "\n",
      "the loss is 4.779970645904541\n",
      "\n",
      "Epoch 5: \t\n",
      "next character prediction: \n",
      "\n",
      "the loss is 4.757689952850342\n",
      "\n",
      "Epoch 6: \t\n",
      "next character prediction: \n",
      "\n",
      "the loss is 4.730105400085449\n",
      "\n",
      "Epoch 7: \t\n",
      "next character prediction: \n",
      "\n",
      "the loss is 4.69591760635376\n",
      "\n",
      "Epoch 8: \t\n",
      "next character prediction: \n",
      "\n",
      "the loss is 4.652911186218262\n",
      "\n",
      "Epoch 9: \t\n",
      "next character prediction: S\n",
      "the loss is 4.597597599029541\n",
      "\n",
      "Epoch 10: \t\n",
      "next character prediction: S\n",
      "the loss is 4.524745464324951\n",
      "\n",
      "Epoch 11: \t\n",
      "next character prediction: S\n",
      "the loss is 4.426735877990723\n",
      "\n",
      "Epoch 12: \t\n",
      "next character prediction: S\n",
      "the loss is 4.2927045822143555\n",
      "\n",
      "Epoch 13: \t\n",
      "next character prediction: S\n",
      "the loss is 4.1074652671813965\n",
      "\n",
      "Epoch 14: \t\n",
      "next character prediction: S\n",
      "the loss is 3.850512742996216\n",
      "\n",
      "Epoch 15: \t\n",
      "next character prediction: S\n",
      "the loss is 3.4965362548828125\n",
      "\n",
      "Epoch 16: \t\n",
      "next character prediction: S\n",
      "the loss is 3.022876501083374\n",
      "\n",
      "Epoch 17: \t\n",
      "next character prediction: S\n",
      "the loss is 2.4385688304901123\n",
      "\n",
      "Epoch 18: \t\n",
      "next character prediction: S\n",
      "the loss is 1.8507297039031982\n",
      "\n",
      "Epoch 19: \t\n",
      "next character prediction: S\n",
      "the loss is 1.533164620399475\n",
      "\n",
      "Epoch 20: \t\n",
      "next character prediction: S\n",
      "the loss is 1.6523408889770508\n",
      "\n"
     ]
    }
   ],
   "source": [
    "for i in range(EPOCH):\n",
    "    act_1 = layer_1(one_hot_input)\n",
    "    act_2 = layer_2(act_1)\n",
    "    \n",
    "    print(f\"Epoch {i + 1}: \\t\\nnext character prediction: {chr(act_2[4].argmax().item())}\")\n",
    "    \n",
    "    loss = F.cross_entropy(act_2, target_ids)\n",
    "    print(f\"the loss is {loss.item()}\\n\")\n",
    "    loss.backward()\n",
    "    \n",
    "    layer_1.weight.data -= LEARNING_RATE * layer_1.weight.grad\n",
    "    layer_2.weight.data -= LEARNING_RATE * layer_2.weight.grad"
   ]
  },
  {
   "cell_type": "markdown",
   "id": "42bdd56f",
   "metadata": {},
   "source": [
    "With a learning rate of `.1` and 30 iterations, the model started overfitting at the 27th iteration. The lowest possible loss value I could get to was a `0.40575`"
   ]
  },
  {
   "cell_type": "code",
   "execution_count": 14,
   "id": "2d790640",
   "metadata": {},
   "outputs": [
    {
     "data": {
      "text/plain": [
       "tensor(83)"
      ]
     },
     "execution_count": 14,
     "metadata": {},
     "output_type": "execute_result"
    }
   ],
   "source": [
    "act_2[4].argmax()"
   ]
  },
  {
   "cell_type": "code",
   "execution_count": 15,
   "id": "b027cd5d",
   "metadata": {},
   "outputs": [
    {
     "data": {
      "text/plain": [
       "'S'"
      ]
     },
     "execution_count": 15,
     "metadata": {},
     "output_type": "execute_result"
    }
   ],
   "source": [
    "chr(act_2[4].argmax().item())"
   ]
  },
  {
   "cell_type": "code",
   "execution_count": 16,
   "id": "633b3378",
   "metadata": {},
   "outputs": [
    {
     "name": "stdout",
     "output_type": "stream",
     "text": [
      "tensor([114,  34,  34,  34,  74])\n",
      "tensor([34, 34, 34, 74, 83])\n"
     ]
    }
   ],
   "source": [
    "print(data_tensor[0:5])\n",
    "print(data_tensor[1:6])"
   ]
  },
  {
   "cell_type": "markdown",
   "id": "b7de0a70",
   "metadata": {},
   "source": [
    "The model correctly predicted the next character. The character after `74` (`J`) was predicted to be `84`, which is equal to `S`"
   ]
  }
 ],
 "metadata": {
  "kernelspec": {
   "display_name": "work",
   "language": "python",
   "name": "work"
  },
  "language_info": {
   "codemirror_mode": {
    "name": "ipython",
    "version": 3
   },
   "file_extension": ".py",
   "mimetype": "text/x-python",
   "name": "python",
   "nbconvert_exporter": "python",
   "pygments_lexer": "ipython3",
   "version": "3.9.10"
  }
 },
 "nbformat": 4,
 "nbformat_minor": 5
}
