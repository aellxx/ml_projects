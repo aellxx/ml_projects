{
 "cells": [
  {
   "cell_type": "markdown",
   "id": "7dc2ecc5",
   "metadata": {},
   "source": [
    "# Character Embeddings"
   ]
  },
  {
   "cell_type": "code",
   "execution_count": 1,
   "id": "f9360b15",
   "metadata": {},
   "outputs": [],
   "source": [
    "import torch \n",
    "from torch import tensor \n",
    "import torch.nn.functional as F \n",
    "import torch.nn as nn "
   ]
  },
  {
   "cell_type": "markdown",
   "id": "42bbe94b",
   "metadata": {},
   "source": [
    "## Get the data"
   ]
  },
  {
   "cell_type": "code",
   "execution_count": 2,
   "id": "138395fc",
   "metadata": {},
   "outputs": [],
   "source": [
    "import json \n",
    "data = open(json.__file__).read() \n",
    "data_tensor = torch.tensor([ord(c) for c in data])"
   ]
  },
  {
   "cell_type": "code",
   "execution_count": 3,
   "id": "d83ff035",
   "metadata": {},
   "outputs": [],
   "source": [
    "num_classes = 126"
   ]
  },
  {
   "cell_type": "markdown",
   "id": "8367d9e6",
   "metadata": {},
   "source": [
    "## Define neural net layers"
   ]
  },
  {
   "cell_type": "code",
   "execution_count": 4,
   "id": "fa6dfb77",
   "metadata": {},
   "outputs": [
    {
     "name": "stdout",
     "output_type": "stream",
     "text": [
      "Layer 1 has 126 in features and 1 out features\n",
      "Layer 2 has 1 in features and 126 out features\n"
     ]
    }
   ],
   "source": [
    "layer_1 = nn.Linear(in_features=num_classes, out_features=1, bias=False)\n",
    "layer_2 = nn.Linear(in_features=1, out_features=num_classes, bias=False)\n",
    "\n",
    "print(f\"Layer 1 has {layer_1.in_features} in features and {layer_1.out_features} out features\")\n",
    "print(f\"Layer 2 has {layer_2.in_features} in features and {layer_2.out_features} out features\")"
   ]
  },
  {
   "cell_type": "code",
   "execution_count": 16,
   "id": "c996bd0d",
   "metadata": {},
   "outputs": [
    {
     "data": {
      "text/plain": [
       "torch.Size([14019])"
      ]
     },
     "execution_count": 16,
     "metadata": {},
     "output_type": "execute_result"
    }
   ],
   "source": [
    "data_tensor.shape"
   ]
  },
  {
   "cell_type": "markdown",
   "id": "11ccb33a",
   "metadata": {},
   "source": [
    "## Get the input batch"
   ]
  },
  {
   "cell_type": "code",
   "execution_count": 5,
   "id": "f832b09c",
   "metadata": {},
   "outputs": [
    {
     "data": {
      "text/plain": [
       "tensor([114,  34,  34,  34,  74])"
      ]
     },
     "execution_count": 5,
     "metadata": {},
     "output_type": "execute_result"
    }
   ],
   "source": [
    "input_batch = data_tensor[0:5]\n",
    "input_batch"
   ]
  },
  {
   "cell_type": "code",
   "execution_count": 6,
   "id": "c68fa1be",
   "metadata": {},
   "outputs": [
    {
     "data": {
      "text/plain": [
       "torch.Size([5, 126])"
      ]
     },
     "execution_count": 6,
     "metadata": {},
     "output_type": "execute_result"
    }
   ],
   "source": [
    "one_hot_input = F.one_hot(input_batch, num_classes).float()\n",
    "one_hot_input.shape"
   ]
  },
  {
   "cell_type": "markdown",
   "id": "140f4a20",
   "metadata": {},
   "source": [
    "## A forward pass"
   ]
  },
  {
   "cell_type": "markdown",
   "id": "38d4b3b8",
   "metadata": {},
   "source": [
    "Pass the input to the first layer"
   ]
  },
  {
   "cell_type": "code",
   "execution_count": 7,
   "id": "29e1ead7",
   "metadata": {},
   "outputs": [
    {
     "data": {
      "text/plain": [
       "tensor([[-0.0432],\n",
       "        [-0.0091],\n",
       "        [-0.0091],\n",
       "        [-0.0091],\n",
       "        [ 0.0618]], grad_fn=<MmBackward0>)"
      ]
     },
     "execution_count": 7,
     "metadata": {},
     "output_type": "execute_result"
    }
   ],
   "source": [
    "act_1 = layer_1(one_hot_input)\n",
    "act_1"
   ]
  },
  {
   "cell_type": "markdown",
   "id": "9e802083",
   "metadata": {},
   "source": [
    "Pass the input to the second layer"
   ]
  },
  {
   "cell_type": "code",
   "execution_count": 8,
   "id": "a75e6ffe",
   "metadata": {},
   "outputs": [
    {
     "data": {
      "text/plain": [
       "torch.Size([5, 126])"
      ]
     },
     "execution_count": 8,
     "metadata": {},
     "output_type": "execute_result"
    }
   ],
   "source": [
    "act_2 = layer_2(act_1)\n",
    "act_2.shape"
   ]
  },
  {
   "cell_type": "code",
   "execution_count": 9,
   "id": "dcdb8fb0",
   "metadata": {},
   "outputs": [
    {
     "data": {
      "text/plain": [
       "'['"
      ]
     },
     "execution_count": 9,
     "metadata": {},
     "output_type": "execute_result"
    }
   ],
   "source": [
    "chr(act_2[4].argmax().item())"
   ]
  },
  {
   "cell_type": "markdown",
   "id": "1d7d98c3",
   "metadata": {},
   "source": [
    "* 5: Amount of data we're working with \n",
    "* 126: Number of characters in the dictionary"
   ]
  },
  {
   "cell_type": "markdown",
   "id": "c4ade85b",
   "metadata": {},
   "source": [
    "## Backpropagation and SGD"
   ]
  },
  {
   "cell_type": "code",
   "execution_count": 10,
   "id": "e3f09313",
   "metadata": {},
   "outputs": [],
   "source": [
    "LEARNING_RATE = .1\n",
    "target_ids = F.one_hot(data_tensor[1:6], num_classes).float()\n",
    "EPOCH = 30"
   ]
  },
  {
   "cell_type": "code",
   "execution_count": 11,
   "id": "6945aaa0",
   "metadata": {},
   "outputs": [
    {
     "name": "stdout",
     "output_type": "stream",
     "text": [
      "Epoch 0: the loss is 4.8406291007995605\n"
     ]
    }
   ],
   "source": [
    "loss = F.cross_entropy(act_2, target_ids)\n",
    "print(f\"Epoch 0: the loss is {loss.item()}\")"
   ]
  },
  {
   "cell_type": "code",
   "execution_count": 12,
   "id": "88aced99",
   "metadata": {},
   "outputs": [],
   "source": [
    "loss.backward()\n",
    "layer_1.weight.data -= LEARNING_RATE * layer_1.weight.grad\n",
    "layer_2.weight.data -= LEARNING_RATE * layer_2.weight.grad"
   ]
  },
  {
   "cell_type": "code",
   "execution_count": 13,
   "id": "64b1134a",
   "metadata": {},
   "outputs": [
    {
     "name": "stdout",
     "output_type": "stream",
     "text": [
      "Epoch 1: the loss is 4.839855670928955\n",
      "Epoch 2: the loss is 4.838334083557129\n",
      "Epoch 3: the loss is 4.836106300354004\n",
      "Epoch 4: the loss is 4.833216667175293\n",
      "Epoch 5: the loss is 4.829684734344482\n",
      "Epoch 6: the loss is 4.825475215911865\n",
      "Epoch 7: the loss is 4.820461273193359\n",
      "Epoch 8: the loss is 4.814371109008789\n",
      "Epoch 9: the loss is 4.806732177734375\n",
      "Epoch 10: the loss is 4.796785831451416\n",
      "Epoch 11: the loss is 4.783381462097168\n",
      "Epoch 12: the loss is 4.764822483062744\n",
      "Epoch 13: the loss is 4.738641262054443\n",
      "Epoch 14: the loss is 4.7012810707092285\n",
      "Epoch 15: the loss is 4.64762020111084\n",
      "Epoch 16: the loss is 4.570286273956299\n",
      "Epoch 17: the loss is 4.458667755126953\n",
      "Epoch 18: the loss is 4.297555446624756\n",
      "Epoch 19: the loss is 4.065454483032227\n",
      "Epoch 20: the loss is 3.733349323272705\n",
      "Epoch 21: the loss is 3.2681548595428467\n",
      "Epoch 22: the loss is 2.6619107723236084\n",
      "Epoch 23: the loss is 2.0558314323425293\n",
      "Epoch 24: the loss is 1.789001226425171\n",
      "Epoch 25: the loss is 1.8268064260482788\n",
      "Epoch 26: the loss is 1.923374891281128\n",
      "Epoch 27: the loss is 1.9074296951293945\n",
      "Epoch 28: the loss is 1.6799150705337524\n",
      "Epoch 29: the loss is 1.2793806791305542\n",
      "Epoch 30: the loss is 1.1405318975448608\n"
     ]
    }
   ],
   "source": [
    "for i in range(EPOCH):\n",
    "    act_1 = layer_1(one_hot_input)\n",
    "    act_2 = layer_2(act_1)\n",
    "    \n",
    "    loss = F.cross_entropy(act_2, target_ids)\n",
    "    print(f\"Epoch {i+1}: the loss is {loss.item()}\")\n",
    "    loss.backward()\n",
    "    \n",
    "    layer_1.weight.data -= LEARNING_RATE * layer_1.weight.grad\n",
    "    layer_2.weight.data -= LEARNING_RATE * layer_2.weight.grad"
   ]
  },
  {
   "cell_type": "code",
   "execution_count": 14,
   "id": "7da5b8dc",
   "metadata": {},
   "outputs": [
    {
     "data": {
      "text/plain": [
       "tensor(83)"
      ]
     },
     "execution_count": 14,
     "metadata": {},
     "output_type": "execute_result"
    }
   ],
   "source": [
    "act_2[4].argmax()"
   ]
  },
  {
   "cell_type": "code",
   "execution_count": 15,
   "id": "e1772681",
   "metadata": {},
   "outputs": [
    {
     "data": {
      "text/plain": [
       "'S'"
      ]
     },
     "execution_count": 15,
     "metadata": {},
     "output_type": "execute_result"
    }
   ],
   "source": [
    "chr(act_2[4].argmax().item())"
   ]
  },
  {
   "cell_type": "markdown",
   "id": "bf42870c",
   "metadata": {},
   "source": [
    "The model correctly predicted the next character. The character after `74` (`J`) was predicted to be `84`, which is equal to `S`"
   ]
  }
 ],
 "metadata": {
  "kernelspec": {
   "display_name": "work",
   "language": "python",
   "name": "work"
  },
  "language_info": {
   "codemirror_mode": {
    "name": "ipython",
    "version": 3
   },
   "file_extension": ".py",
   "mimetype": "text/x-python",
   "name": "python",
   "nbconvert_exporter": "python",
   "pygments_lexer": "ipython3",
   "version": "3.9.10"
  }
 },
 "nbformat": 4,
 "nbformat_minor": 5
}
